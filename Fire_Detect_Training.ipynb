{
  "nbformat": 4,
  "nbformat_minor": 0,
  "metadata": {
    "accelerator": "GPU",
    "colab": {
      "name": "Fire Detect Training",
      "provenance": [],
      "collapsed_sections": []
    },
    "kernelspec": {
      "display_name": "Python 3",
      "name": "python3"
    },
    "language_info": {
      "name": "python"
    }
  },
  "cells": [
    {
      "cell_type": "markdown",
      "metadata": {
        "id": "WUY-dC4SFhwc"
      },
      "source": [
        "## Fire Detection TinyML Model\n"
      ]
    },
    {
      "cell_type": "code",
      "metadata": {
        "colab": {
          "base_uri": "https://localhost:8080/"
        },
        "id": "j_6WsliXfupo",
        "outputId": "1f3a4256-1f8f-41c0-b9d9-131ab36bc1f7"
      },
      "source": [
        "from google.colab import drive\n",
        "drive.mount('/content/drive/')"
      ],
      "execution_count": 1,
      "outputs": [
        {
          "output_type": "stream",
          "name": "stdout",
          "text": [
            "Drive already mounted at /content/drive/; to attempt to forcibly remount, call drive.mount(\"/content/drive/\", force_remount=True).\n"
          ]
        }
      ]
    },
    {
      "cell_type": "code",
      "metadata": {
        "id": "xhgMktnbiX8Y"
      },
      "source": [
        "import tensorflow as tf\n",
        "\n",
        "import tensorflow.keras as keras\n",
        "from keras.layers import Conv2D, MaxPooling2D, Dropout, Flatten, Dense, GlobalMaxPooling2D, BatchNormalization, Activation\n",
        "\n",
        "from tensorflow.keras.preprocessing.image import ImageDataGenerator\n"
      ],
      "execution_count": 2,
      "outputs": []
    },
    {
      "cell_type": "code",
      "metadata": {
        "id": "tQcHe--tCft_"
      },
      "source": [
        "model = keras.Sequential()\n",
        "\n",
        "\n",
        "model.add(Conv2D(12, kernel_size=3, strides=2,input_shape=(160,120,3), kernel_constraint=tf.keras.constraints.MaxNorm(1),activation='relu', padding='same'))\n",
        "\n",
        "model.add(MaxPooling2D(pool_size=2, strides=2, padding='same'))\n",
        "\n",
        "model.add(Conv2D(36, kernel_size=3, strides=2,activation='relu', padding='same'))\n",
        "\n",
        "model.add(Dropout(0.2))\n",
        "\n",
        "model.add(Conv2D(72, kernel_size=3, strides=2, activation='relu', padding='same'))\n",
        "\n",
        "model.add(Dropout(0.2))\n",
        "model.add(GlobalMaxPooling2D())\n",
        "model.add(Dense(64, activation='relu'))\n",
        "model.add(Dropout(0.2))\n",
        "model.add(Dense(32, activation='relu'))\n",
        "model.add(Dropout(0.2))\n",
        "model.add(Dense(2, activation='softmax'))\n"
      ],
      "execution_count": 3,
      "outputs": []
    },
    {
      "cell_type": "code",
      "metadata": {
        "id": "-eSv4FI9ECWB"
      },
      "source": [
        "opt = keras.optimizers.Adam()\n",
        "model.compile(loss='categorical_crossentropy', optimizer=opt, metrics=['accuracy'])\n"
      ],
      "execution_count": 4,
      "outputs": []
    },
    {
      "cell_type": "markdown",
      "metadata": {
        "id": "935CxSXjF2uw"
      },
      "source": [
        "# Data Preprocessing\n"
      ]
    },
    {
      "cell_type": "code",
      "metadata": {
        "colab": {
          "base_uri": "https://localhost:8080/"
        },
        "id": "lOE8e6BUiWN0",
        "outputId": "6c736d0f-ba2a-4e1f-db2e-7bf3e89f339a"
      },
      "source": [
        "#collected dataset of around 1200 photos\n",
        "\n",
        "train_datagen = ImageDataGenerator(\n",
        "        rescale=1./255,\n",
        "        horizontal_flip=True, vertical_flip =True,brightness_range=[0.8,1.2],zoom_range=[0.8,1.2])\n",
        "test_datagen = ImageDataGenerator(rescale=1./255)\n",
        "validation_generator = test_datagen.flow_from_directory(\n",
        "        '/content/drive/MyDrive/FireDataSplit/val',\n",
        "        target_size=(160, 120),\n",
        "        color_mode='rgb',\n",
        "        batch_size=64,\n",
        "         class_mode='categorical')\n",
        "train_generator = train_datagen.flow_from_directory(\n",
        "        '/content/drive/MyDrive/FireDataSplit/train',\n",
        "        target_size=(160, 120),\n",
        "        batch_size=64,\n",
        "        color_mode='rgb',\n",
        "        class_mode='categorical')"
      ],
      "execution_count": 5,
      "outputs": [
        {
          "output_type": "stream",
          "name": "stdout",
          "text": [
            "Found 3000 images belonging to 2 classes.\n",
            "Found 9008 images belonging to 2 classes.\n"
          ]
        }
      ]
    },
    {
      "cell_type": "markdown",
      "metadata": {
        "id": "_Z5_pAUcF6rR"
      },
      "source": [
        "# Training\n"
      ]
    },
    {
      "cell_type": "code",
      "metadata": {
        "colab": {
          "base_uri": "https://localhost:8080/"
        },
        "id": "mpoPG1NXH8I9",
        "outputId": "481dc649-88d3-4390-fb44-f5c55604dffe"
      },
      "source": [
        "history = model.fit(\n",
        "        train_generator,\n",
        "        epochs=100,\n",
        "        validation_data=validation_generator,\n",
        "      verbose=1)"
      ],
      "execution_count": 6,
      "outputs": [
        {
          "output_type": "stream",
          "name": "stdout",
          "text": [
            "Epoch 1/100\n",
            "141/141 [==============================] - 3374s 24s/step - loss: 0.4511 - accuracy: 0.7931 - val_loss: 0.3246 - val_accuracy: 0.8823\n",
            "Epoch 2/100\n",
            "141/141 [==============================] - 70s 499ms/step - loss: 0.3196 - accuracy: 0.8763 - val_loss: 0.2670 - val_accuracy: 0.9070\n",
            "Epoch 3/100\n",
            "141/141 [==============================] - 70s 497ms/step - loss: 0.2878 - accuracy: 0.8897 - val_loss: 0.2441 - val_accuracy: 0.9250\n",
            "Epoch 4/100\n",
            "141/141 [==============================] - 69s 487ms/step - loss: 0.2581 - accuracy: 0.9062 - val_loss: 0.2145 - val_accuracy: 0.9270\n",
            "Epoch 5/100\n",
            "141/141 [==============================] - 69s 488ms/step - loss: 0.2327 - accuracy: 0.9177 - val_loss: 0.2369 - val_accuracy: 0.9067\n",
            "Epoch 6/100\n",
            "141/141 [==============================] - 68s 483ms/step - loss: 0.2313 - accuracy: 0.9162 - val_loss: 0.2004 - val_accuracy: 0.9380\n",
            "Epoch 7/100\n",
            "141/141 [==============================] - 68s 481ms/step - loss: 0.2222 - accuracy: 0.9187 - val_loss: 0.2051 - val_accuracy: 0.9297\n",
            "Epoch 8/100\n",
            "141/141 [==============================] - 68s 484ms/step - loss: 0.2108 - accuracy: 0.9226 - val_loss: 0.1984 - val_accuracy: 0.9257\n",
            "Epoch 9/100\n",
            "141/141 [==============================] - 70s 495ms/step - loss: 0.2019 - accuracy: 0.9272 - val_loss: 0.1846 - val_accuracy: 0.9340\n",
            "Epoch 10/100\n",
            "141/141 [==============================] - 70s 497ms/step - loss: 0.1927 - accuracy: 0.9267 - val_loss: 0.1926 - val_accuracy: 0.9267\n",
            "Epoch 11/100\n",
            "141/141 [==============================] - 70s 496ms/step - loss: 0.1939 - accuracy: 0.9303 - val_loss: 0.1683 - val_accuracy: 0.9353\n",
            "Epoch 12/100\n",
            "141/141 [==============================] - 70s 493ms/step - loss: 0.1835 - accuracy: 0.9351 - val_loss: 0.1940 - val_accuracy: 0.9247\n",
            "Epoch 13/100\n",
            "141/141 [==============================] - 70s 498ms/step - loss: 0.1721 - accuracy: 0.9364 - val_loss: 0.1831 - val_accuracy: 0.9303\n",
            "Epoch 14/100\n",
            "141/141 [==============================] - 70s 496ms/step - loss: 0.1789 - accuracy: 0.9358 - val_loss: 0.1813 - val_accuracy: 0.9350\n",
            "Epoch 15/100\n",
            "141/141 [==============================] - 70s 496ms/step - loss: 0.1803 - accuracy: 0.9355 - val_loss: 0.1769 - val_accuracy: 0.9327\n",
            "Epoch 16/100\n",
            "141/141 [==============================] - 70s 494ms/step - loss: 0.1642 - accuracy: 0.9418 - val_loss: 0.1480 - val_accuracy: 0.9437\n",
            "Epoch 17/100\n",
            "141/141 [==============================] - 70s 496ms/step - loss: 0.1667 - accuracy: 0.9393 - val_loss: 0.1470 - val_accuracy: 0.9457\n",
            "Epoch 18/100\n",
            "141/141 [==============================] - 70s 496ms/step - loss: 0.1668 - accuracy: 0.9404 - val_loss: 0.1438 - val_accuracy: 0.9467\n",
            "Epoch 19/100\n",
            "141/141 [==============================] - 70s 498ms/step - loss: 0.1586 - accuracy: 0.9416 - val_loss: 0.3675 - val_accuracy: 0.8443\n",
            "Epoch 20/100\n",
            "141/141 [==============================] - 70s 496ms/step - loss: 0.1576 - accuracy: 0.9423 - val_loss: 0.1364 - val_accuracy: 0.9507\n",
            "Epoch 21/100\n",
            "141/141 [==============================] - 70s 497ms/step - loss: 0.1597 - accuracy: 0.9424 - val_loss: 0.1397 - val_accuracy: 0.9460\n",
            "Epoch 22/100\n",
            "141/141 [==============================] - 70s 497ms/step - loss: 0.1542 - accuracy: 0.9459 - val_loss: 0.1389 - val_accuracy: 0.9450\n",
            "Epoch 23/100\n",
            "141/141 [==============================] - 70s 497ms/step - loss: 0.1529 - accuracy: 0.9454 - val_loss: 0.1857 - val_accuracy: 0.9277\n",
            "Epoch 24/100\n",
            "141/141 [==============================] - 70s 494ms/step - loss: 0.1500 - accuracy: 0.9490 - val_loss: 0.1461 - val_accuracy: 0.9463\n",
            "Epoch 25/100\n",
            "141/141 [==============================] - 70s 495ms/step - loss: 0.1382 - accuracy: 0.9535 - val_loss: 0.2370 - val_accuracy: 0.9007\n",
            "Epoch 26/100\n",
            "141/141 [==============================] - 70s 498ms/step - loss: 0.1495 - accuracy: 0.9453 - val_loss: 0.1549 - val_accuracy: 0.9377\n",
            "Epoch 27/100\n",
            "141/141 [==============================] - 70s 498ms/step - loss: 0.1457 - accuracy: 0.9502 - val_loss: 0.1305 - val_accuracy: 0.9517\n",
            "Epoch 28/100\n",
            "141/141 [==============================] - 70s 496ms/step - loss: 0.1454 - accuracy: 0.9472 - val_loss: 0.1343 - val_accuracy: 0.9517\n",
            "Epoch 29/100\n",
            "141/141 [==============================] - 70s 498ms/step - loss: 0.1383 - accuracy: 0.9484 - val_loss: 0.1275 - val_accuracy: 0.9557\n",
            "Epoch 30/100\n",
            "141/141 [==============================] - 70s 496ms/step - loss: 0.1462 - accuracy: 0.9467 - val_loss: 0.2492 - val_accuracy: 0.8807\n",
            "Epoch 31/100\n",
            "141/141 [==============================] - 70s 498ms/step - loss: 0.1374 - accuracy: 0.9515 - val_loss: 0.1215 - val_accuracy: 0.9537\n",
            "Epoch 32/100\n",
            "141/141 [==============================] - 70s 497ms/step - loss: 0.1371 - accuracy: 0.9497 - val_loss: 0.1635 - val_accuracy: 0.9310\n",
            "Epoch 33/100\n",
            "141/141 [==============================] - 70s 496ms/step - loss: 0.1342 - accuracy: 0.9514 - val_loss: 0.1303 - val_accuracy: 0.9483\n",
            "Epoch 34/100\n",
            "141/141 [==============================] - 70s 495ms/step - loss: 0.1309 - accuracy: 0.9542 - val_loss: 0.1068 - val_accuracy: 0.9597\n",
            "Epoch 35/100\n",
            "141/141 [==============================] - 70s 497ms/step - loss: 0.1297 - accuracy: 0.9498 - val_loss: 0.1206 - val_accuracy: 0.9523\n",
            "Epoch 36/100\n",
            "141/141 [==============================] - 70s 495ms/step - loss: 0.1315 - accuracy: 0.9535 - val_loss: 0.1461 - val_accuracy: 0.9387\n",
            "Epoch 37/100\n",
            "141/141 [==============================] - 70s 497ms/step - loss: 0.1350 - accuracy: 0.9509 - val_loss: 0.1337 - val_accuracy: 0.9483\n",
            "Epoch 38/100\n",
            "141/141 [==============================] - 70s 495ms/step - loss: 0.1273 - accuracy: 0.9542 - val_loss: 0.1310 - val_accuracy: 0.9493\n",
            "Epoch 39/100\n",
            "141/141 [==============================] - 70s 494ms/step - loss: 0.1246 - accuracy: 0.9565 - val_loss: 0.1551 - val_accuracy: 0.9397\n",
            "Epoch 40/100\n",
            "141/141 [==============================] - 70s 498ms/step - loss: 0.1273 - accuracy: 0.9530 - val_loss: 0.1219 - val_accuracy: 0.9537\n",
            "Epoch 41/100\n",
            "141/141 [==============================] - 70s 498ms/step - loss: 0.1188 - accuracy: 0.9576 - val_loss: 0.1192 - val_accuracy: 0.9537\n",
            "Epoch 42/100\n",
            "141/141 [==============================] - 70s 496ms/step - loss: 0.1246 - accuracy: 0.9550 - val_loss: 0.1245 - val_accuracy: 0.9530\n",
            "Epoch 43/100\n",
            "141/141 [==============================] - 70s 496ms/step - loss: 0.1209 - accuracy: 0.9554 - val_loss: 0.1109 - val_accuracy: 0.9547\n",
            "Epoch 44/100\n",
            "141/141 [==============================] - 70s 498ms/step - loss: 0.1175 - accuracy: 0.9580 - val_loss: 0.1210 - val_accuracy: 0.9503\n",
            "Epoch 45/100\n",
            "141/141 [==============================] - 70s 497ms/step - loss: 0.1158 - accuracy: 0.9583 - val_loss: 0.1248 - val_accuracy: 0.9483\n",
            "Epoch 46/100\n",
            "141/141 [==============================] - 70s 496ms/step - loss: 0.1115 - accuracy: 0.9609 - val_loss: 0.1137 - val_accuracy: 0.9567\n",
            "Epoch 47/100\n",
            "141/141 [==============================] - 70s 497ms/step - loss: 0.1220 - accuracy: 0.9564 - val_loss: 0.1114 - val_accuracy: 0.9580\n",
            "Epoch 48/100\n",
            "141/141 [==============================] - 70s 496ms/step - loss: 0.1182 - accuracy: 0.9569 - val_loss: 0.1212 - val_accuracy: 0.9563\n",
            "Epoch 49/100\n",
            "141/141 [==============================] - 70s 498ms/step - loss: 0.1224 - accuracy: 0.9556 - val_loss: 0.1058 - val_accuracy: 0.9587\n",
            "Epoch 50/100\n",
            "141/141 [==============================] - 70s 496ms/step - loss: 0.1120 - accuracy: 0.9591 - val_loss: 0.1107 - val_accuracy: 0.9607\n",
            "Epoch 51/100\n",
            "141/141 [==============================] - 68s 483ms/step - loss: 0.1073 - accuracy: 0.9608 - val_loss: 0.1089 - val_accuracy: 0.9587\n",
            "Epoch 52/100\n",
            "141/141 [==============================] - 68s 481ms/step - loss: 0.1206 - accuracy: 0.9558 - val_loss: 0.1043 - val_accuracy: 0.9613\n",
            "Epoch 53/100\n",
            "141/141 [==============================] - 68s 481ms/step - loss: 0.1114 - accuracy: 0.9598 - val_loss: 0.1110 - val_accuracy: 0.9587\n",
            "Epoch 54/100\n",
            "141/141 [==============================] - 68s 479ms/step - loss: 0.1123 - accuracy: 0.9586 - val_loss: 0.1042 - val_accuracy: 0.9610\n",
            "Epoch 55/100\n",
            "141/141 [==============================] - 67s 479ms/step - loss: 0.1078 - accuracy: 0.9598 - val_loss: 0.1021 - val_accuracy: 0.9640\n",
            "Epoch 56/100\n",
            "141/141 [==============================] - 68s 480ms/step - loss: 0.1040 - accuracy: 0.9624 - val_loss: 0.1330 - val_accuracy: 0.9430\n",
            "Epoch 57/100\n",
            "141/141 [==============================] - 68s 480ms/step - loss: 0.1080 - accuracy: 0.9593 - val_loss: 0.1087 - val_accuracy: 0.9507\n",
            "Epoch 58/100\n",
            "141/141 [==============================] - 68s 481ms/step - loss: 0.1114 - accuracy: 0.9603 - val_loss: 0.0995 - val_accuracy: 0.9617\n",
            "Epoch 59/100\n",
            "141/141 [==============================] - 68s 480ms/step - loss: 0.1090 - accuracy: 0.9593 - val_loss: 0.1386 - val_accuracy: 0.9440\n",
            "Epoch 60/100\n",
            "141/141 [==============================] - 69s 491ms/step - loss: 0.1070 - accuracy: 0.9613 - val_loss: 0.1086 - val_accuracy: 0.9590\n",
            "Epoch 61/100\n",
            "141/141 [==============================] - 70s 494ms/step - loss: 0.1078 - accuracy: 0.9617 - val_loss: 0.1094 - val_accuracy: 0.9553\n",
            "Epoch 62/100\n",
            "141/141 [==============================] - 70s 494ms/step - loss: 0.1044 - accuracy: 0.9616 - val_loss: 0.1027 - val_accuracy: 0.9560\n",
            "Epoch 63/100\n",
            "141/141 [==============================] - 70s 494ms/step - loss: 0.1077 - accuracy: 0.9605 - val_loss: 0.1025 - val_accuracy: 0.9610\n",
            "Epoch 64/100\n",
            "141/141 [==============================] - 70s 494ms/step - loss: 0.1059 - accuracy: 0.9611 - val_loss: 0.1052 - val_accuracy: 0.9587\n",
            "Epoch 65/100\n",
            "141/141 [==============================] - 70s 494ms/step - loss: 0.0965 - accuracy: 0.9653 - val_loss: 0.0925 - val_accuracy: 0.9640\n",
            "Epoch 66/100\n",
            "141/141 [==============================] - 69s 491ms/step - loss: 0.1001 - accuracy: 0.9627 - val_loss: 0.1221 - val_accuracy: 0.9513\n",
            "Epoch 67/100\n",
            "141/141 [==============================] - 70s 496ms/step - loss: 0.1062 - accuracy: 0.9597 - val_loss: 0.1003 - val_accuracy: 0.9607\n",
            "Epoch 68/100\n",
            "141/141 [==============================] - 69s 491ms/step - loss: 0.0999 - accuracy: 0.9635 - val_loss: 0.1012 - val_accuracy: 0.9620\n",
            "Epoch 69/100\n",
            "141/141 [==============================] - 70s 494ms/step - loss: 0.1026 - accuracy: 0.9627 - val_loss: 0.0856 - val_accuracy: 0.9687\n",
            "Epoch 70/100\n",
            "141/141 [==============================] - 70s 495ms/step - loss: 0.0993 - accuracy: 0.9636 - val_loss: 0.0881 - val_accuracy: 0.9663\n",
            "Epoch 71/100\n",
            "141/141 [==============================] - 70s 496ms/step - loss: 0.0997 - accuracy: 0.9641 - val_loss: 0.0924 - val_accuracy: 0.9630\n",
            "Epoch 72/100\n",
            "141/141 [==============================] - 70s 495ms/step - loss: 0.0998 - accuracy: 0.9623 - val_loss: 0.1175 - val_accuracy: 0.9607\n",
            "Epoch 73/100\n",
            "141/141 [==============================] - 70s 494ms/step - loss: 0.1013 - accuracy: 0.9621 - val_loss: 0.1046 - val_accuracy: 0.9580\n",
            "Epoch 74/100\n",
            "141/141 [==============================] - 70s 495ms/step - loss: 0.0983 - accuracy: 0.9658 - val_loss: 0.1054 - val_accuracy: 0.9613\n",
            "Epoch 75/100\n",
            "141/141 [==============================] - 70s 497ms/step - loss: 0.0952 - accuracy: 0.9663 - val_loss: 0.1152 - val_accuracy: 0.9547\n",
            "Epoch 76/100\n",
            "141/141 [==============================] - 70s 494ms/step - loss: 0.0956 - accuracy: 0.9654 - val_loss: 0.0931 - val_accuracy: 0.9657\n",
            "Epoch 77/100\n",
            "141/141 [==============================] - 69s 493ms/step - loss: 0.1024 - accuracy: 0.9631 - val_loss: 0.1394 - val_accuracy: 0.9477\n",
            "Epoch 78/100\n",
            "141/141 [==============================] - 70s 496ms/step - loss: 0.1034 - accuracy: 0.9633 - val_loss: 0.0966 - val_accuracy: 0.9600\n",
            "Epoch 79/100\n",
            "141/141 [==============================] - 70s 498ms/step - loss: 0.0882 - accuracy: 0.9697 - val_loss: 0.1327 - val_accuracy: 0.9507\n",
            "Epoch 80/100\n",
            "141/141 [==============================] - 70s 499ms/step - loss: 0.0945 - accuracy: 0.9666 - val_loss: 0.0843 - val_accuracy: 0.9670\n",
            "Epoch 81/100\n",
            "141/141 [==============================] - 70s 498ms/step - loss: 0.0998 - accuracy: 0.9636 - val_loss: 0.0970 - val_accuracy: 0.9633\n",
            "Epoch 82/100\n",
            "141/141 [==============================] - 70s 497ms/step - loss: 0.0882 - accuracy: 0.9695 - val_loss: 0.0951 - val_accuracy: 0.9653\n",
            "Epoch 83/100\n",
            "141/141 [==============================] - 70s 494ms/step - loss: 0.1010 - accuracy: 0.9626 - val_loss: 0.1159 - val_accuracy: 0.9543\n",
            "Epoch 84/100\n",
            "141/141 [==============================] - 70s 497ms/step - loss: 0.0906 - accuracy: 0.9658 - val_loss: 0.1055 - val_accuracy: 0.9567\n",
            "Epoch 85/100\n",
            "141/141 [==============================] - 70s 496ms/step - loss: 0.0933 - accuracy: 0.9649 - val_loss: 0.0782 - val_accuracy: 0.9697\n",
            "Epoch 86/100\n",
            "141/141 [==============================] - 70s 496ms/step - loss: 0.0934 - accuracy: 0.9664 - val_loss: 0.1070 - val_accuracy: 0.9563\n",
            "Epoch 87/100\n",
            "141/141 [==============================] - 70s 496ms/step - loss: 0.0916 - accuracy: 0.9677 - val_loss: 0.0905 - val_accuracy: 0.9647\n",
            "Epoch 88/100\n",
            "141/141 [==============================] - 70s 497ms/step - loss: 0.0904 - accuracy: 0.9681 - val_loss: 0.1420 - val_accuracy: 0.9457\n",
            "Epoch 89/100\n",
            "141/141 [==============================] - 70s 497ms/step - loss: 0.0897 - accuracy: 0.9679 - val_loss: 0.1090 - val_accuracy: 0.9613\n",
            "Epoch 90/100\n",
            "141/141 [==============================] - 70s 495ms/step - loss: 0.0910 - accuracy: 0.9659 - val_loss: 0.1085 - val_accuracy: 0.9573\n",
            "Epoch 91/100\n",
            "141/141 [==============================] - 70s 496ms/step - loss: 0.0902 - accuracy: 0.9689 - val_loss: 0.0977 - val_accuracy: 0.9643\n",
            "Epoch 92/100\n",
            "141/141 [==============================] - 70s 495ms/step - loss: 0.0867 - accuracy: 0.9660 - val_loss: 0.1097 - val_accuracy: 0.9593\n",
            "Epoch 93/100\n",
            "141/141 [==============================] - 70s 496ms/step - loss: 0.0909 - accuracy: 0.9640 - val_loss: 0.1110 - val_accuracy: 0.9557\n",
            "Epoch 94/100\n",
            "141/141 [==============================] - 69s 492ms/step - loss: 0.0888 - accuracy: 0.9676 - val_loss: 0.1198 - val_accuracy: 0.9547\n",
            "Epoch 95/100\n",
            "141/141 [==============================] - 70s 493ms/step - loss: 0.0926 - accuracy: 0.9690 - val_loss: 0.1010 - val_accuracy: 0.9657\n",
            "Epoch 96/100\n",
            "141/141 [==============================] - 70s 496ms/step - loss: 0.0806 - accuracy: 0.9699 - val_loss: 0.1009 - val_accuracy: 0.9607\n",
            "Epoch 97/100\n",
            "141/141 [==============================] - 70s 496ms/step - loss: 0.0871 - accuracy: 0.9674 - val_loss: 0.1105 - val_accuracy: 0.9567\n",
            "Epoch 98/100\n",
            "141/141 [==============================] - 70s 495ms/step - loss: 0.0840 - accuracy: 0.9692 - val_loss: 0.1159 - val_accuracy: 0.9563\n",
            "Epoch 99/100\n",
            "141/141 [==============================] - 70s 494ms/step - loss: 0.0893 - accuracy: 0.9688 - val_loss: 0.0921 - val_accuracy: 0.9663\n",
            "Epoch 100/100\n",
            "141/141 [==============================] - 69s 492ms/step - loss: 0.0845 - accuracy: 0.9689 - val_loss: 0.1017 - val_accuracy: 0.9637\n"
          ]
        }
      ]
    },
    {
      "cell_type": "code",
      "metadata": {
        "colab": {
          "base_uri": "https://localhost:8080/"
        },
        "id": "5bPS_-sVfCEW",
        "outputId": "a8cdebf9-052f-424c-8460-b574169f3237"
      },
      "source": [
        "#save the model to use later\n",
        "model.save(\"/content/drive/MyDrive/firedetect\") \n"
      ],
      "execution_count": 7,
      "outputs": [
        {
          "output_type": "stream",
          "name": "stdout",
          "text": [
            "INFO:tensorflow:Assets written to: /content/drive/MyDrive/firedetect/assets\n"
          ]
        }
      ]
    },
    {
      "cell_type": "markdown",
      "metadata": {
        "id": "Q0MsG_h9GFsv"
      },
      "source": [
        "# Quantizing The Model\n"
      ]
    },
    {
      "cell_type": "code",
      "metadata": {
        "id": "ovi_Wtjahm86"
      },
      "source": [
        "import glob\n",
        "import os\n",
        "import pandas as pd\n",
        "import numpy as np"
      ],
      "execution_count": 8,
      "outputs": []
    },
    {
      "cell_type": "code",
      "metadata": {
        "colab": {
          "base_uri": "https://localhost:8080/"
        },
        "id": "vIUqLkFO-0p5",
        "outputId": "1871d8ea-8e38-4bb9-e33c-61ee04fd0984"
      },
      "source": [
        "converter = tf.lite.TFLiteConverter.from_saved_model(\"/content/drive/MyDrive/firedetect\")\n",
        "model_no_quant_tflite = converter.convert()\n",
        "\n",
        "# Save the model to disk\n",
        "open(\"float.tflite\", \"wb\").write(model_no_quant_tflite)\n",
        "def representative_dataset():\n",
        "  for filename in glob.glob(\"/content/drive/MyDrive/FireDataSplit/val\" + \"/*/*.jpg\"):\n",
        "    img = keras.preprocessing.image.load_img(filename, target_size=(160, 120))\n",
        "    img_array = keras.preprocessing.image.img_to_array(img)\n",
        "    img_array = tf.expand_dims(img_array, 0)  # Create batch axis for images, labels in train_ds.take(1):\n",
        "    yield([img_array])\n",
        "# Set the optimization flag.\n",
        "converter.optimizations = [tf.lite.Optimize.DEFAULT]\n",
        "# Enforce integer only quantization\n",
        "converter.target_spec.supported_ops = [tf.lite.OpsSet.TFLITE_BUILTINS_INT8]\n",
        "converter.inference_input_type = tf.int8\n",
        "converter.inference_output_type = tf.int8\n",
        "# Provide a representative dataset to ensure we quantize correctly.\n",
        "converter.representative_dataset = representative_dataset\n",
        "model_tflite = converter.convert()\n",
        "\n",
        "# Save the model to disk\n",
        "open(\"quantized.tflite\", \"wb\").write(model_tflite)"
      ],
      "execution_count": 9,
      "outputs": [
        {
          "output_type": "execute_result",
          "data": {
            "text/plain": [
              "42336"
            ]
          },
          "metadata": {},
          "execution_count": 9
        }
      ]
    },
    {
      "cell_type": "markdown",
      "metadata": {
        "id": "d0V_IjQ1G_Ah"
      },
      "source": [
        "##Comparing Sizes Between Models\n"
      ]
    },
    {
      "cell_type": "code",
      "metadata": {
        "id": "hlaKGeqjioMf"
      },
      "source": [
        "def get_dir_size(dir):\n",
        "  size = 0\n",
        "  for f in os.scandir(dir):\n",
        "    if f.is_file():\n",
        "      size += f.stat().st_size\n",
        "    elif f.is_dir():\n",
        "      size += get_dir_size(f.path)\n",
        "  return size\n",
        "\n",
        "# Calculate size\n",
        "size_tf = get_dir_size(\"/content/drive/MyDrive/firedetect\")\n",
        "size_no_quant_tflite = os.path.getsize(\"float.tflite\")\n",
        "size_tflite = os.path.getsize(\"quantized.tflite\")\n",
        "\n",
        "# Compare size\n",
        "pd.DataFrame.from_records(\n",
        "    [[\"TensorFlow\", f\"{size_tf} bytes\", \"\"],\n",
        "     [\"TensorFlow Lite\", f\"{size_no_quant_tflite} bytes \", f\"(reduced by {size_tf - size_no_quant_tflite} bytes)\"],\n",
        "     [\"TensorFlow Lite Quantized\", f\"{size_tflite} bytes\", f\"(reduced by {size_no_quant_tflite - size_tflite} bytes)\"]],\n",
        "     columns = [\"Model\", \"Size\", \"\"], index=\"Model\")"
      ],
      "execution_count": null,
      "outputs": []
    },
    {
      "cell_type": "markdown",
      "metadata": {
        "id": "7X1y1ePMHZnE"
      },
      "source": [
        "##Testing It Out"
      ]
    },
    {
      "cell_type": "code",
      "metadata": {
        "id": "4ct2O3L7lgn9"
      },
      "source": [
        "def predict_tflite(tflite_model, filename):\n",
        "  img = keras.preprocessing.image.load_img(filename, target_size=(160, 120))\n",
        "  img_array = keras.preprocessing.image.img_to_array(img)\n",
        "  img_array = tf.expand_dims(img_array, 0)\n",
        "\n",
        "  # Initialize the TFLite interpreter\n",
        "  interpreter = tf.lite.Interpreter(model_content=tflite_model)\n",
        "  interpreter.allocate_tensors()\n",
        "\n",
        "  input_details = interpreter.get_input_details()[0]\n",
        "  output_details = interpreter.get_output_details()[0]\n",
        "\n",
        "  # If required, quantize the input layer (from float to integer)\n",
        "  input_scale, input_zero_point = input_details[\"quantization\"]\n",
        "  if (input_scale, input_zero_point) != (0.0, 0):\n",
        "    img_array = np.multiply(img_array, 1.0 / input_scale) + input_zero_point\n",
        "    img_array = img_array.astype(input_details[\"dtype\"])\n",
        "  \n",
        "  # Invoke the interpreter\n",
        "  interpreter.set_tensor(input_details[\"index\"], img_array)\n",
        "  interpreter.invoke()\n",
        "  pred = interpreter.get_tensor(output_details[\"index\"])[0]\n",
        "  \n",
        "  # If required, dequantized the output layer (from integer to float)\n",
        "  output_scale, output_zero_point = output_details[\"quantization\"]\n",
        "  if (output_scale, output_zero_point) != (0.0, 0):\n",
        "    pred = pred.astype(np.float32)\n",
        "    pred = np.multiply((pred - output_zero_point), output_scale)\n",
        "  \n",
        "  predicted_label_index = np.argmax(pred)\n",
        "  predicted_score = pred[predicted_label_index]\n",
        "  return (predicted_label_index, predicted_score)"
      ],
      "execution_count": null,
      "outputs": []
    },
    {
      "cell_type": "code",
      "metadata": {
        "id": "iXayCCF_lqQG"
      },
      "source": [
        "print(predict_tflite(model_tflite,\"fire1.jpg\")) #fires are (0,1) and non fires are a (1,1)"
      ],
      "execution_count": null,
      "outputs": []
    },
    {
      "cell_type": "markdown",
      "metadata": {
        "id": "YfWlGO8EHfyT"
      },
      "source": [
        "##Exporting the Quantized Model"
      ]
    },
    {
      "cell_type": "code",
      "metadata": {
        "id": "WFae-mxq5l7U"
      },
      "source": [
        "!apt-get update && apt-get -qq install xxd"
      ],
      "execution_count": null,
      "outputs": []
    },
    {
      "cell_type": "code",
      "metadata": {
        "id": "_oGYI-g05icv"
      },
      "source": [
        "!xxd -i quantized.tflite > model_data.cc"
      ],
      "execution_count": null,
      "outputs": []
    }
  ]
}